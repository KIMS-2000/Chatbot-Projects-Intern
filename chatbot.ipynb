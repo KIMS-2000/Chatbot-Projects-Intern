{
 "cells": [
  {
   "cell_type": "markdown",
   "metadata": {},
   "source": [
    "# Building Chatbots Using Google DialogFlow"
   ]
  },
  {
   "cell_type": "markdown",
   "metadata": {},
   "source": [
    "### We are going to create a chatbot with help of Dialogflow for a specific restaurant. Let’sname it OnlineEatsBot. In short we can call it OnlineEats product. You can choose any other use-case for which you want to build the chatbot. For this project we are going to build a food-ordering chatbot."
   ]
  },
  {
   "cell_type": "markdown",
   "metadata": {},
   "source": [
    "# Getting Started With Dialogflow"
   ]
  },
  {
   "cell_type": "markdown",
   "metadata": {},
   "source": [
    "#### Let’s follow these steps to create an account in Dialogflow and then create an agent.\n",
    "(An agent is nothing but another name for a chatbot.)\n",
    "1. Create an account at https://dialogflow.com, and log in to the account.\n",
    "2. Create an agent."
   ]
  },
  {
   "cell_type": "markdown",
   "metadata": {},
   "source": [
    "# Create intents"
   ]
  },
  {
   "cell_type": "markdown",
   "metadata": {},
   "source": [
    "#### Default fallback intent: Fallback intents are triggered if a user’s input is not matched by any of the regular intents or enabled built-in small talk. When you create a new agent, a default fallback intent is createdautomatically. You can modify or delete it if you wish.\n",
    "#### • Default welcome intent: We can extend this welcome intent for our own chatbots. You should add some of your own user expressions and default responses.\n"
   ]
  },
  {
   "cell_type": "markdown",
   "metadata": {},
   "source": [
    "#### Before we create our own intents, let’s first add some utterances in default welcome intent and make it ready using the following steps:\n",
    "1. Click on the default welcome intent.\n",
    "2. Add your own user expressions in Training Phrases.\n",
    "3. Click on SAVE\n",
    "\n",
    "When we click on save, the machine learning models behind the scenes run and\n",
    "train the data that we gave (i.e., the user expressions). Training the data means letting\n",
    "the machine understand what kind of intent it is based on the data that we provide and\n",
    "being able to predict when we give any new data to it. For example, if we look at\n",
    "Figure  4, where we have defined five user expressions that the machine already knows\n",
    "belong to “welcome intent,” what if the user says “Hello there,” which is not defined\n",
    "anywhere? The machine will still categorize “Hello there” as default welcome intent, as\n",
    "the features used in training and the machine for welcome intent are similar in the new User Expression"
   ]
  },
  {
   "cell_type": "markdown",
   "metadata": {},
   "source": [
    "#  place_order_intent."
   ]
  },
  {
   "cell_type": "markdown",
   "metadata": {},
   "source": [
    "#### Now that we have created the welcome intent, let’s create the order intent. I named it place_order_intent. The following are my user expressions that I entered:\n",
    "1)I want food\n",
    "2)I want to order food asap\n",
    "3)Can you please take my order for food?\n",
    "4)Take my order please\n",
    "5)I want to place an order for Chinese food\n",
    "6)I want to place an order\n",
    "7)Would you please help me to order food?\n",
    "8)Can you please order food for me?\n",
    "9)I want to order food\n",
    "10)I am looking to order Thai food\n",
    "11)I am looking to order Chinese food\n",
    "\n",
    "#### Adding Default Response to the Intent\n",
    "1)Sure, What would you like to order today?\n",
    "2)Definitely, What would you like to have today?\n",
    "3)Certainly, I’ll try to help you with that. What are you feeling like eating today?"
   ]
  },
  {
   "cell_type": "markdown",
   "metadata": {},
   "source": [
    "# Item Description Intent and Belonging Entities"
   ]
  },
  {
   "cell_type": "markdown",
   "metadata": {},
   "source": [
    "#### We can select One and Two and define them as @sys.number, which is nothing but the data type. We’ll create a new entity called food_items_entity to identify food items. If you look at Figure 6, you’ll find that we have ENTITY named as food_items_ entity, but when we select the words, then we name the parameters as food_items_ entity1 and food_items_entity2; this is similar for the food quantity, which is a number where we name the first and second parameters as quantity1 and quantity2, respectively.\n",
    "\n",
    "#### Item description intent\n",
    "What we define here will help us understand the JSON response, which we’ll be\n",
    "getting after intent is triggered. We should have all these values there to move forward\n",
    "with the chatbot flow. So, select the entire word or combination of words and click on\n",
    "Create New. A new screen will come to create entities; just enter the name for this new\n",
    "entity and save.\n",
    "Now, come back to our intent for items_description and you should see something\n",
    "like Figure 6.\n",
    "Keep adding more user expression in the training phrases, and keep defining the\n",
    "entities within it.\n",
    "We have added four utterances so far, and this is how they look. You will add as\n",
    "many as possible so that our agent’s accuracy for intent classification is better.\n",
    "#### Adding more utterances in item description intent\n",
    "Now, at this point once we have saved our intent, and our agent has finished training\n",
    "the models. If we enter the following sentence on the right side, we should be able to see\n",
    "the following JSON response: One chicken dumpling and two spring rolls\n"
   ]
  },
  {
   "cell_type": "markdown",
   "metadata": {},
   "source": [
    "# Understanding and Replying Back to the User\n"
   ]
  },
  {
   "cell_type": "markdown",
   "metadata": {},
   "source": [
    "Now, next in the conversation is to make the bot reply back to the user that the order is\n",
    "understood along with any new information. New information could be the generated\n",
    "order_id, the order amount, or the expected delivery time. These things will be\n",
    "populated at your server end, and you can formulate it with the bot’s response to give it\n",
    "back to the user.\n",
    "Now, let’s try to add the order amount in our case; to do that, we can use\n",
    "Dialogflow’s Default Response feature and add this inside the intent. Let’s hardcode the\n",
    "amount\n",
    "for now, as this amount will vary depending on the food items, their quantity, or the\n",
    "restaurant. Later in the project, we’ll discuss how to make it dynamic by invoking an\n",
    "API. The interesting thing here is that we can access the params we got from the intent\n",
    "(i.e. , the food items and their quantities). Responses can contain references to\n",
    "parameter values. We’ll understand this in a moment.\n",
    "If a parameter is present in the parameter table, we can use the following format to\n",
    "refer to its value in the ‘Text response’field: $parameter_name.\n",
    "We can use this params in the default response so that the bot confirms the order\n",
    "back to the user.\n"
   ]
  },
  {
   "cell_type": "markdown",
   "metadata": {},
   "source": [
    "# Order Status Intent"
   ]
  },
  {
   "cell_type": "markdown",
   "metadata": {},
   "source": [
    "Now, let’s create the order_status intent, where the user may be trying to ask for the\n",
    "status of the order after the order is placed.\n",
    "#### Intents\n",
    "1)Where is my order?\n",
    "2)Where is my food?\n",
    "3)I havent received my order yet?\n",
    "\n",
    "#### Responses\n",
    "1)Can you please help me with your order ID?"
   ]
  },
  {
   "cell_type": "markdown",
   "metadata": {},
   "source": [
    "# User_Order_ID Intent"
   ]
  },
  {
   "cell_type": "markdown",
   "metadata": {},
   "source": [
    "Now the user will be giving their order ID, and our task is to identify that and give a response again. So,  that we need to create another intent to identify when the user is talking about the order ID.\n",
    "#### Responses \n",
    "Order Status for Order ID: $order_id .The delivery guy is in your locality, your food will\n",
    "arrive in about 5 minutes."
   ]
  },
  {
   "cell_type": "markdown",
   "metadata": {},
   "source": [
    "# User_Thanks Intent"
   ]
  },
  {
   "cell_type": "markdown",
   "metadata": {},
   "source": [
    "Next, the user will possibly be thanking, if not something else, so we create a new\n",
    "intent called user_thanks to identify different ways the user is saying thank you. This is\n",
    "important because once the user says thank you in some way or another, our bot should\n",
    "reply the same.\n",
    "We shouldn’t just expect the user to say thanks after the delivery status default\n",
    "response and reply blindly but try to identify it using custom intents.\n",
    "#### intent\n",
    "1)Thank you\n",
    "2)Thanks\n",
    "3)Thanks a lot\n",
    "\n",
    "#### Responses\n",
    "Thanks a lot for your cooperation"
   ]
  },
  {
   "cell_type": "markdown",
   "metadata": {},
   "source": [
    "# Output "
   ]
  },
  {
   "cell_type": "markdown",
   "metadata": {},
   "source": [
    "User: Hello\n",
    "\n",
    "OnlineEatsBot: Hello and Welcome! How may I help you?\n",
    "\n",
    "User: I am looking to order Chinese food.\n",
    "\n",
    "OnlineEatsBot: Sure, what would you like to order today?\n",
    "\n",
    "User: One chicken dumpling and two spring rolls.\n",
    "\n",
    "OnlineEatsBot: Done. Your final amount is XYZ, and your order is\n",
    "\n",
    "placed for 1 Chicken dumpling and 2 spring rolls.\n",
    "\n",
    "User: I haven’t received my order yet. Where is my food?\n",
    "\n",
    "OnlineEatsBot: Can you please help me with your order ID?\n",
    "\n",
    "User: 123456\n",
    "\n",
    "OnlineEatsBot: Order Status for Order ID: 123456. The delivery\n",
    "guy is in your locality, your food will arrive in about 5 minutes.\n",
    "\n",
    "User: Thanks.\n",
    "\n",
    "OnlineEatsBot: Thanks a lot for your cooperation.\n"
   ]
  },
  {
   "cell_type": "markdown",
   "metadata": {},
   "source": [
    "# Developing Dialogflow Chatbot on the Web"
   ]
  },
  {
   "cell_type": "markdown",
   "metadata": {},
   "source": [
    "We will test our bot with Web Demo.Let’s go to the Integrations page in our Dialogflow account and enable the Web\n",
    "Demo"
   ]
  },
  {
   "cell_type": "markdown",
   "metadata": {},
   "source": [
    "# Sample Link of Project:https://bot.dialogflow.com/48f3e879-48ac-48c3-b014-c1ea60b7f2c3"
   ]
  }
 ],
 "metadata": {
  "kernelspec": {
   "display_name": "Python 3",
   "language": "python",
   "name": "python3"
  },
  "language_info": {
   "codemirror_mode": {
    "name": "ipython",
    "version": 3
   },
   "file_extension": ".py",
   "mimetype": "text/x-python",
   "name": "python",
   "nbconvert_exporter": "python",
   "pygments_lexer": "ipython3",
   "version": "3.7.6"
  }
 },
 "nbformat": 4,
 "nbformat_minor": 4
}
